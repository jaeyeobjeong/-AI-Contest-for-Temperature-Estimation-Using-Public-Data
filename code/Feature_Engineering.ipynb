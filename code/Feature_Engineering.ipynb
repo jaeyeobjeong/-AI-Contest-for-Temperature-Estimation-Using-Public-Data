{
 "cells": [
  {
   "cell_type": "markdown",
   "id": "ce072835",
   "metadata": {
    "colab_type": "text",
    "id": "JYHb_Mf-2lnG"
   },
   "source": [
    "## Library & Data"
   ]
  },
  {
   "cell_type": "code",
   "execution_count": 1,
   "id": "779119c1",
   "metadata": {
    "scrolled": true
   },
   "outputs": [
    {
     "name": "stdout",
     "output_type": "stream",
     "text": [
      "--sys.version- \n",
      "3.9.9 (main, Mar  7 2022, 20:41:57) \n",
      "[Clang 13.0.0 (clang-1300.0.29.30)]\n"
     ]
    }
   ],
   "source": [
    "#3.6.8 ver 에서 진행되었습니다.\n",
    "import sys\n",
    "print(\"--sys.version- \")\n",
    "print(sys.version)"
   ]
  },
  {
   "cell_type": "code",
   "execution_count": 2,
   "id": "e250ccc2",
   "metadata": {},
   "outputs": [],
   "source": [
    "#!conda install python==3.6"
   ]
  },
  {
   "cell_type": "code",
   "execution_count": 3,
   "id": "057e2d9b",
   "metadata": {},
   "outputs": [],
   "source": [
    "path = '/Users/jaeyeobjeong/Desktop/포트폴리오/프로젝트/온도 예측/data'"
   ]
  },
  {
   "cell_type": "code",
   "execution_count": 4,
   "id": "17fca9cf",
   "metadata": {
    "colab": {},
    "colab_type": "code",
    "id": "RtKnyRor2lnI"
   },
   "outputs": [],
   "source": [
    "import pandas as pd\n",
    "from pandas import Series, DataFrame\n",
    "import numpy as np\n",
    "import matplotlib.pyplot as plt\n",
    "%matplotlib inline\n",
    "import sys, warnings\n",
    "import seaborn as sns\n",
    "if not sys.warnoptions: warnings.simplefilter(\"ignore\")\n",
    "plt.rc('font', family='AppleGothic')\n",
    "plt.rc('axes', unicode_minus=False)\n",
    "#pd.set_option('max_columns', 1040, 'max_rows', 140)\n",
    "\n",
    "train = pd.read_csv(f'{path}/train.csv')\n",
    "test = pd.read_csv(f'{path}/test.csv')\n",
    "\n",
    "submission = pd.read_csv(f'{path}/sample_submission.csv')"
   ]
  },
  {
   "cell_type": "markdown",
   "id": "22ac2fb7",
   "metadata": {
    "colab_type": "text",
    "id": "3zjQY_KY2lnR"
   },
   "source": [
    "## Data Cleansing & Pre-Processing  "
   ]
  },
  {
   "cell_type": "code",
   "execution_count": 5,
   "id": "7d95c324",
   "metadata": {
    "colab": {},
    "colab_type": "code",
    "id": "pb0OD3v82lnT"
   },
   "outputs": [],
   "source": [
    "df_month = train[train.loc[:,'Y00':'Y17'].notnull().all(1)].drop(columns = 'Y18')\n",
    "df_days = train[train['Y18'].notnull()].drop(train.loc[:,'Y00':'Y17'],axis=1)\n",
    "\n",
    "trainX1, trainX2 = df_month, df_days\n",
    "\n",
    "trainX1['Y18'] = ((trainX1['Y06'] + trainX1['Y10'] + trainX1['Y12'])/3 + (trainX1['Y00'] + trainX1['Y10'] + trainX1['Y12'])/3)/ 2\n",
    "\n",
    "trainX1 = trainX1.drop(columns = ['Y00', 'Y01', 'Y02', 'Y03', 'Y04', 'Y05', 'Y06', 'Y07', 'Y08',\n",
    "       'Y09', 'Y10', 'Y11', 'Y12', 'Y13', 'Y14', 'Y15', 'Y16', 'Y17'])\n",
    "\n",
    "train = pd.concat([trainX1,trainX2])\n",
    "\n",
    "train['Y18'] = np.log1p(train['Y18'])\n",
    "\n",
    "y_train = train['Y18']\n",
    "\n",
    "data = pd.concat([train.drop(columns=['Y18']),test])\n",
    "\n",
    "data.index = [i for i in range(len(data))]"
   ]
  },
  {
   "cell_type": "code",
   "execution_count": 6,
   "id": "0ad522bf",
   "metadata": {},
   "outputs": [],
   "source": [
    "# Featrue Rename\n",
    "features = {\n",
    "    'temper' : ['X00', 'X07', 'X28', 'X31', 'X32'], \n",
    "    'land_pressure' : ['X01', 'X06', 'X22', 'X27', 'X29'], \n",
    "    'wind' : ['X02', 'X03', 'X18', 'X24', 'X26'], \n",
    "    'rain' : ['X04', 'X10', 'X21', 'X36', 'X39'], \n",
    "    'sea_pressure' : ['X05', 'X08', 'X09', 'X23', 'X33'], \n",
    "    'sunshine' : ['X11', 'X14', 'X16', 'X19', 'X34'], \n",
    "    'humidity' : ['X12', 'X20', 'X30', 'X37', 'X38'], \n",
    "    'wind_direction' : ['X13', 'X15', 'X17', 'X25', 'X35']\n",
    "}\n",
    "\n",
    "col_names = {}\n",
    "for feat, v in features.items():\n",
    "    for i in range(5):\n",
    "        col_names[f'{v[i]}'] = f'{feat}_{i+1}'\n",
    "\n",
    "\n",
    "data.rename(columns = col_names,inplace=True)\n",
    "train.rename(columns = col_names,inplace=True)\n",
    "test.rename(columns = col_names,inplace=True)"
   ]
  },
  {
   "cell_type": "markdown",
   "id": "6fe3cb14",
   "metadata": {
    "colab_type": "text",
    "id": "Qyq90ZzB2lnk"
   },
   "source": [
    "## Feature Engineering"
   ]
  },
  {
   "cell_type": "markdown",
   "id": "12f590cf",
   "metadata": {},
   "source": [
    "### 기초통계값을 활용한 변수"
   ]
  },
  {
   "cell_type": "markdown",
   "id": "0898d408",
   "metadata": {},
   "source": [
    "- 시간을 범주화 하여 해당 시간의 Y18 통계치를 넣음"
   ]
  },
  {
   "cell_type": "code",
   "execution_count": 7,
   "id": "a1ea9ab8",
   "metadata": {
    "colab": {},
    "colab_type": "code",
    "id": "rel1AkRP2lnm"
   },
   "outputs": [],
   "source": [
    "minute_data = (data.id%144).astype(int)\n",
    "\n",
    "data['min'] = minute_data\n",
    "\n",
    "# data['hour'] = pd.Series((data.index%144/6).astype(int))\n",
    "\n",
    "train['min'] = (train.id%144).astype(int)\n",
    "\n",
    "def f(x) : \n",
    "    if x< 18 : \n",
    "        return('t1')\n",
    "    elif x< 39 : \n",
    "        return('t2')\n",
    "    elif x< 48 : \n",
    "        return('t3')\n",
    "    elif x< 72 : \n",
    "        return('t4')\n",
    "    elif x< 86 : \n",
    "        return('t5')\n",
    "    elif x< 102 : \n",
    "        return('t6')\n",
    "    elif x< 114 : \n",
    "        return('t7')\n",
    "    elif x< 126 : \n",
    "        return('t8')\n",
    "    else : \n",
    "        return('t9')\n",
    "\n",
    "data['time_cat'] = data['min'].apply(f)\n",
    "\n",
    "train['time_cat'] = train['min'].apply(f)"
   ]
  },
  {
   "cell_type": "code",
   "execution_count": 8,
   "id": "fe47dc41",
   "metadata": {},
   "outputs": [],
   "source": [
    "features = []\n",
    "f = train.groupby(['time_cat'])['Y18'].agg([('time_cat_sum','sum')]).reset_index()\n",
    "features.append(f)\n",
    "f = train.groupby(['time_cat'])['Y18'].agg([('time_cat_mean','mean')]).reset_index()\n",
    "features.append(f)\n",
    "f = train.groupby(['time_cat'])['Y18'].agg([('time_cat_std','std')]).reset_index()\n",
    "features.append(f)"
   ]
  },
  {
   "cell_type": "code",
   "execution_count": 9,
   "id": "edbf185e",
   "metadata": {},
   "outputs": [
    {
     "data": {
      "text/plain": [
       "(16272, 46)"
      ]
     },
     "metadata": {},
     "output_type": "display_data"
    }
   ],
   "source": [
    "for f in features :\n",
    "    data = pd.merge(data, f, how='left',on=['time_cat'])\n",
    "display(data.shape)"
   ]
  },
  {
   "cell_type": "markdown",
   "id": "803403ca",
   "metadata": {},
   "source": [
    "- 강수량2를 활용하여 0.5를 기준으로 rain 변수를 만든 뒤 두 조건을 고려한 통계치를 넣음"
   ]
  },
  {
   "cell_type": "code",
   "execution_count": 10,
   "id": "15e29894",
   "metadata": {},
   "outputs": [],
   "source": [
    "def f2(x) : \n",
    "    if x <= 0.5 : \n",
    "        return(0)\n",
    "    else : return(1)"
   ]
  },
  {
   "cell_type": "code",
   "execution_count": 11,
   "id": "71f1f66e",
   "metadata": {},
   "outputs": [],
   "source": [
    "data['rain'] = data['rain_2'].apply(f2)\n",
    "train['rain'] = train['rain_2'].apply(f2)"
   ]
  },
  {
   "cell_type": "code",
   "execution_count": 12,
   "id": "ce198802",
   "metadata": {},
   "outputs": [],
   "source": [
    "features = []\n",
    "f = train.groupby(['time_cat','rain'])['Y18'].agg([('time_rain_sum','sum')]).reset_index()\n",
    "features.append(f)\n",
    "f = train.groupby(['time_cat','rain'])['Y18'].agg([('time_rain_mean','mean')]).reset_index()\n",
    "features.append(f)\n",
    "f = train.groupby(['time_cat','rain'])['Y18'].agg([('time_rain_std','std')]).reset_index()\n",
    "features.append(f)"
   ]
  },
  {
   "cell_type": "code",
   "execution_count": 13,
   "id": "5b52ad83",
   "metadata": {
    "scrolled": true
   },
   "outputs": [
    {
     "data": {
      "text/plain": [
       "(16272, 50)"
      ]
     },
     "metadata": {},
     "output_type": "display_data"
    }
   ],
   "source": [
    "for f in features :\n",
    "    data = pd.merge(data, f, how='left',on=['time_cat','rain'])\n",
    "display(data.shape)"
   ]
  },
  {
   "cell_type": "code",
   "execution_count": 14,
   "id": "7233a0d8",
   "metadata": {},
   "outputs": [],
   "source": [
    "data = pd.get_dummies(data=data, columns=['time_cat'])"
   ]
  },
  {
   "cell_type": "markdown",
   "id": "31594207",
   "metadata": {},
   "source": [
    "## 시간에 따른 기온 차를 고려한 변수\n",
    "\n",
    "- 기온과 관련된 5개 변수에 대해 6시간, 12시간, 24시간, 36시간의 차이에 대한 변수를 만듦"
   ]
  },
  {
   "cell_type": "code",
   "execution_count": 15,
   "id": "9b58bc8e",
   "metadata": {},
   "outputs": [],
   "source": [
    "temper_lst = ['temper_1', 'temper_2', 'temper_3', 'temper_4', 'temper_5']"
   ]
  },
  {
   "cell_type": "code",
   "execution_count": 16,
   "id": "7fba8664",
   "metadata": {},
   "outputs": [],
   "source": [
    "for temper in temper_lst:\n",
    "    interval = 36\n",
    "    diff_temper = []\n",
    "    for i in range(data.shape[0]):\n",
    "        if i > interval:\n",
    "            diff = data[temper].iloc[i] - data[temper].iloc[i-interval]\n",
    "            diff_temper.append(diff)\n",
    "        else:\n",
    "            diff = data[temper].iloc[i] - data[temper].iloc[0]\n",
    "            diff_temper.append(diff)\n",
    "    data['diff3_{}'.format(temper)] = diff_temper"
   ]
  },
  {
   "cell_type": "code",
   "execution_count": 17,
   "id": "3633ef2d",
   "metadata": {},
   "outputs": [],
   "source": [
    "for temper in temper_lst:\n",
    "    interval = 72\n",
    "    diff_temper = []\n",
    "    for i in range(data.shape[0]):\n",
    "        if i > interval:\n",
    "            diff = data[temper].iloc[i] - data[temper].iloc[i-interval]\n",
    "            diff_temper.append(diff)\n",
    "        else:\n",
    "            diff = data[temper].iloc[i] - data[temper].iloc[0]\n",
    "            diff_temper.append(diff)\n",
    "    data['diff2_{}'.format(temper)] = diff_temper"
   ]
  },
  {
   "cell_type": "code",
   "execution_count": 18,
   "id": "393a0c90",
   "metadata": {},
   "outputs": [],
   "source": [
    "for temper in temper_lst:\n",
    "    interval = 144\n",
    "    diff_temper = []\n",
    "    for i in range(data.shape[0]):\n",
    "        if i > interval:\n",
    "            diff = data[temper].iloc[i] - data[temper].iloc[i-interval]\n",
    "            diff_temper.append(diff)\n",
    "        else:\n",
    "            diff = data[temper].iloc[i] - data[temper].iloc[0]\n",
    "            diff_temper.append(diff)\n",
    "    data['diff_1d{}'.format(temper)] = diff_temper"
   ]
  },
  {
   "cell_type": "code",
   "execution_count": 19,
   "id": "b16c9475",
   "metadata": {},
   "outputs": [],
   "source": [
    "for temper in temper_lst:\n",
    "    interval = 216\n",
    "    diff_temper = []\n",
    "    for i in range(data.shape[0]):\n",
    "        if i > interval:\n",
    "            diff = data[temper].iloc[i] - data[temper].iloc[i-interval]\n",
    "            diff_temper.append(diff)\n",
    "        else:\n",
    "            diff = data[temper].iloc[i] - data[temper].iloc[0]\n",
    "            diff_temper.append(diff)\n",
    "    data['diff2_5min_{}'.format(temper)] = diff_temper"
   ]
  },
  {
   "cell_type": "markdown",
   "id": "4976393b",
   "metadata": {},
   "source": [
    "## 시간에 따른 습도 차를 고려한 변수\n",
    "\n",
    "- 습도과 관련된 3개 변수에 대해 6시간, 12시간, 24시간, 36시간의 차이에 대한 변수를 만듦"
   ]
  },
  {
   "cell_type": "code",
   "execution_count": 20,
   "id": "4ea875b2",
   "metadata": {},
   "outputs": [],
   "source": [
    "wet_lst = ['humidity_1', 'humidity_2','humidity_3']\n",
    "\n",
    "for wet in wet_lst:\n",
    "    interval = 144\n",
    "    diff_wet = []\n",
    "    for i in range(data.shape[0]):\n",
    "        if i > interval:\n",
    "            diff = data[wet].iloc[i] - data[wet].iloc[i-interval]\n",
    "            diff_wet.append(diff)\n",
    "        else:\n",
    "            diff = data[wet].iloc[i] - data[wet].iloc[0]\n",
    "            diff_wet.append(diff)\n",
    "    data['diff_humidity144_{}'.format(wet)] = diff_wet"
   ]
  },
  {
   "cell_type": "code",
   "execution_count": 21,
   "id": "68ddd50c",
   "metadata": {},
   "outputs": [],
   "source": [
    "for wet in wet_lst:\n",
    "    interval = 72\n",
    "    diff_wet = []\n",
    "    for i in range(data.shape[0]):\n",
    "        if i > interval:\n",
    "            diff = data[wet].iloc[i] - data[wet].iloc[i-interval]\n",
    "            diff_wet.append(diff)\n",
    "        else:\n",
    "            diff = data[wet].iloc[i] - data[wet].iloc[0]\n",
    "            diff_wet.append(diff)\n",
    "    data['diff_humidity72_{}'.format(wet)] = diff_wet"
   ]
  },
  {
   "cell_type": "code",
   "execution_count": 22,
   "id": "4beb4905",
   "metadata": {},
   "outputs": [],
   "source": [
    "for wet in wet_lst:\n",
    "    interval = 216\n",
    "    diff_wet = []\n",
    "    for i in range(data.shape[0]):\n",
    "        if i > interval:\n",
    "            diff = data[wet].iloc[i] - data[wet].iloc[i-interval]\n",
    "            diff_wet.append(diff)\n",
    "        else:\n",
    "            diff = data[wet].iloc[i] - data[wet].iloc[0]\n",
    "            diff_wet.append(diff)\n",
    "    data['diff_humidity216_{}'.format(wet)] = diff_wet"
   ]
  },
  {
   "cell_type": "code",
   "execution_count": 23,
   "id": "1d6adc29",
   "metadata": {},
   "outputs": [],
   "source": [
    "for wet in wet_lst:\n",
    "    interval = 36\n",
    "    diff_wet = []\n",
    "    for i in range(data.shape[0]):\n",
    "        if i > interval:\n",
    "            diff = data[wet].iloc[i] - data[wet].iloc[i-interval]\n",
    "            diff_wet.append(diff)\n",
    "        else:\n",
    "            diff = data[wet].iloc[i] - data[wet].iloc[0]\n",
    "            diff_wet.append(diff)\n",
    "    data['diff_humidity36_{}'.format(wet)] = diff_wet"
   ]
  },
  {
   "cell_type": "code",
   "execution_count": 24,
   "id": "6eb54cb7",
   "metadata": {},
   "outputs": [],
   "source": [
    "#위의 온도 변수와 내용은 동일하지만, 컬럼명이 달라 모델링 시 다른 결과가 나오기 때문에, 추가함.\n",
    "intervals = [36,72,144,216]\n",
    "\n",
    "temper_lst = ['temper_1', 'temper_2', 'temper_3', 'temper_4', 'temper_5']\n",
    "for temper in temper_lst:\n",
    "    for interval in intervals : \n",
    "        diff_temper = []\n",
    "        for i in range(data.shape[0]):\n",
    "            if i > interval:\n",
    "                diff = data[temper].iloc[i] - data[temper].iloc[i-interval]\n",
    "                diff_temper.append(diff)\n",
    "            else:\n",
    "                diff = data[temper].iloc[i] - data[temper].iloc[0]\n",
    "                diff_temper.append(diff)\n",
    "        data['diff_{}_{}'.format(interval,temper)] = diff_temper"
   ]
  },
  {
   "cell_type": "markdown",
   "id": "9402d628",
   "metadata": {},
   "source": [
    "## 시간에 따른 습도와 일사량 차를 고려한 변수\n",
    "\n",
    "- 습도과 관련된 5개 변수와 일사량과 관련된 5개의 변수 중 일사량을 측정한 변수 2개에 대해 10분, 1시간의 차이에 대한 변수를 만듦."
   ]
  },
  {
   "cell_type": "code",
   "execution_count": 25,
   "id": "d2e349a7",
   "metadata": {},
   "outputs": [],
   "source": [
    "#interval단위로 차이를 구하는 함수를 생성. \n",
    "def to_per_time(interval, df, colname):\n",
    "    day = data['min'].nunique() #6*24\n",
    "    diff = []\n",
    "    for num_days in range(int(data.shape[0]/data['min'].nunique())):\n",
    "        for i in range(day):\n",
    "            if i < interval: #interval단위 이전의 기록들은 차이를 비교할 수 없어, 0으로 대체.\n",
    "                diff.append(0) \n",
    "            else:\n",
    "                diff.append(df[colname][i] - df[colname][i-interval])\n",
    "    return diff"
   ]
  },
  {
   "cell_type": "code",
   "execution_count": 26,
   "id": "e76b9618",
   "metadata": {},
   "outputs": [],
   "source": [
    "intervals = [1,6]\n",
    "for interval in intervals:\n",
    "    for i in range(1,6):\n",
    "        data[f'diff_humidity_{interval}_{i}'] = to_per_time(6,data,f'humidity_{i}')"
   ]
  },
  {
   "cell_type": "code",
   "execution_count": 27,
   "id": "57df7086",
   "metadata": {},
   "outputs": [],
   "source": [
    "intervals = [1,6]\n",
    "for interval in intervals:\n",
    "    for i in range(1,6):\n",
    "        try : data[f'diff_sunshine_{interval}_{i}'] = to_per_time(interval,data,f'sunshine_{i}')\n",
    "        except : pass"
   ]
  },
  {
   "cell_type": "markdown",
   "id": "1a9dcfae",
   "metadata": {},
   "source": [
    "### 습도와 일사량의 10분 간 차이에 대한 변수들의 평균 및 곱한 결과\n",
    "\n",
    "- 10분 전의 일사량과 습도 차이에 대한 변수와 그 두 가지 유형의 변수를 곱한 변수이다.\n",
    "- 다음의 변수로 일사량과 습도의 단 시간 안에서의 차이를 알 수 있다.\n",
    "- 다음의 변수는 습도가 높을 경우,일사량이 온도에 미치는 영향을 더 크게 할 수 있다고 판단하여 만듦."
   ]
  },
  {
   "cell_type": "code",
   "execution_count": 28,
   "id": "32c63457",
   "metadata": {},
   "outputs": [],
   "source": [
    "import numpy as np"
   ]
  },
  {
   "cell_type": "code",
   "execution_count": 29,
   "id": "03e58d0f",
   "metadata": {},
   "outputs": [],
   "source": [
    "data['humidity_mean'] = np.mean(data[data.columns[data.columns.str.contains('diff_humidity_1')]],axis=1)\n",
    "data['sunshine_mean'] = np.mean(data[['diff_sunshine_1_1','diff_sunshine_1_5']],axis=1)"
   ]
  },
  {
   "cell_type": "code",
   "execution_count": 30,
   "id": "a6d38de5",
   "metadata": {},
   "outputs": [],
   "source": [
    "data['sunshine_humidity'] = data['humidity_mean']*data['sunshine_mean']"
   ]
  },
  {
   "cell_type": "code",
   "execution_count": 31,
   "id": "8a7c582d",
   "metadata": {},
   "outputs": [],
   "source": [
    "data.to_csv(f'{path}/for_modeling_data.csv', index = False)"
   ]
  }
 ],
 "metadata": {
  "kernelspec": {
   "display_name": "Python 3 (ipykernel)",
   "language": "python",
   "name": "python3"
  },
  "language_info": {
   "codemirror_mode": {
    "name": "ipython",
    "version": 3
   },
   "file_extension": ".py",
   "mimetype": "text/x-python",
   "name": "python",
   "nbconvert_exporter": "python",
   "pygments_lexer": "ipython3",
   "version": "3.9.9"
  }
 },
 "nbformat": 4,
 "nbformat_minor": 5
}
